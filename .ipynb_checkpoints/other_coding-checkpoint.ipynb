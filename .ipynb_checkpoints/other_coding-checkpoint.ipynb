{
 "cells": [
  {
   "cell_type": "code",
   "execution_count": 5,
   "metadata": {
    "collapsed": false
   },
   "outputs": [],
   "source": [
    "def reverse(inp):\n",
    "    if len(inp) == 0:\n",
    "        return []\n",
    "    return [inp[-1]]+reverse(inp[:-1])"
   ]
  },
  {
   "cell_type": "code",
   "execution_count": 6,
   "metadata": {
    "collapsed": false
   },
   "outputs": [
    {
     "data": {
      "text/plain": [
       "[2, 2, 2, 1]"
      ]
     },
     "execution_count": 6,
     "metadata": {},
     "output_type": "execute_result"
    }
   ],
   "source": [
    "reverse([1, 2, 2, 2])"
   ]
  },
  {
   "cell_type": "code",
   "execution_count": 11,
   "metadata": {
    "collapsed": true
   },
   "outputs": [],
   "source": [
    "class Classy(object):\n",
    "    def __init__(self):\n",
    "        self.items = []\n",
    "    def addItem(self, item):\n",
    "        self.items.append(item)\n",
    "    def getClassiness(self):\n",
    "        score = {\"tophat\":2, \"bowtie\":4, \"monocle\":5}\n",
    "        rslt = 0\n",
    "        for item in self.items:\n",
    "            if item in score.keys():\n",
    "                rslt += score[item]\n",
    "        return rslt\n"
   ]
  },
  {
   "cell_type": "code",
   "execution_count": 15,
   "metadata": {
    "collapsed": false
   },
   "outputs": [
    {
     "name": "stdout",
     "output_type": "stream",
     "text": [
      "0\n",
      "2\n",
      "13\n"
     ]
    }
   ],
   "source": [
    "# Test cases\n",
    "me = Classy()\n",
    "print(me.getClassiness())\n",
    "\n",
    "me.addItem(\"tophat\")\n",
    "# Should be 2\n",
    "print(me.getClassiness())\n",
    "me.addItem(\"tophat\")\n",
    "me.addItem(\"bowtie\")\n",
    "me.addItem(\"jacket\")\n",
    "me.addItem(\"monocle\")\n",
    "# Should be 11\n",
    "print(me.getClassiness())\n"
   ]
  },
  {
   "cell_type": "code",
   "execution_count": 83,
   "metadata": {
    "collapsed": false
   },
   "outputs": [],
   "source": [
    "class Element(object):\n",
    "    def __init__(self, value):\n",
    "        self.value = value\n",
    "        self.next = None\n",
    "        \n",
    "class LinkedList(object):\n",
    "    def __init__(self, head=None):\n",
    "        self.head = head\n",
    "        \n",
    "    def append(self, new_element):\n",
    "        current = self.head\n",
    "        if self.head:\n",
    "            while current.next:\n",
    "                current = current.next\n",
    "            current.next = new_element\n",
    "        else:\n",
    "            self.head = new_element\n",
    "            \n",
    "    def get_position(self, position):\n",
    "        \"\"\"Get an element from a particular position.\n",
    "        Assume the first position is \"1\".\n",
    "        Return \"None\" if position is not in the list.\"\"\"\n",
    "        i = 0\n",
    "        current = self.head\n",
    "        if position <= 0:\n",
    "            return None\n",
    "        while current.next:\n",
    "            if position == i + 1:\n",
    "                print('5fefe')\n",
    "                current = current.next\n",
    "                return current\n",
    "            i += 1\n",
    "            current = current.next\n",
    "        return None"
   ]
  },
  {
   "cell_type": "code",
   "execution_count": 84,
   "metadata": {
    "collapsed": true
   },
   "outputs": [],
   "source": [
    "e1 = Element(1)\n",
    "e2 = Element(2)\n",
    "e3 = Element(3)\n",
    "e4 = Element(4)"
   ]
  },
  {
   "cell_type": "code",
   "execution_count": 85,
   "metadata": {
    "collapsed": false
   },
   "outputs": [],
   "source": [
    "ll = LinkedList(e1)\n",
    "ll.append(e2)\n",
    "ll.append(e3)\n"
   ]
  },
  {
   "cell_type": "code",
   "execution_count": 88,
   "metadata": {
    "collapsed": false
   },
   "outputs": [],
   "source": [
    "ll.head.next.next.next"
   ]
  },
  {
   "cell_type": "code",
   "execution_count": 93,
   "metadata": {
    "collapsed": false
   },
   "outputs": [
    {
     "name": "stdout",
     "output_type": "stream",
     "text": [
      "5fefe\n"
     ]
    },
    {
     "data": {
      "text/plain": [
       "<__main__.Element at 0x106cae8d0>"
      ]
     },
     "execution_count": 93,
     "metadata": {},
     "output_type": "execute_result"
    }
   ],
   "source": [
    "ll.get_position(2)"
   ]
  },
  {
   "cell_type": "code",
   "execution_count": 5,
   "metadata": {
    "collapsed": true
   },
   "outputs": [],
   "source": [
    "def counter_new(inp):\n",
    "    input_list = list(inp)\n",
    "    result = dict()\n",
    "    for item in input_list:\n",
    "        if item in result.keys():\n",
    "            result[item] += 1\n",
    "        else:\n",
    "            result[item] = 1\n",
    "    return result"
   ]
  },
  {
   "cell_type": "code",
   "execution_count": 6,
   "metadata": {
    "collapsed": false
   },
   "outputs": [
    {
     "data": {
      "text/plain": [
       "{'.': 1, 'c': 1, 'e': 1, 'g': 2, 'l': 1, 'm': 1, 'o': 3}"
      ]
     },
     "execution_count": 6,
     "metadata": {},
     "output_type": "execute_result"
    }
   ],
   "source": [
    "counter_new('google.com')"
   ]
  },
  {
   "cell_type": "code",
   "execution_count": 75,
   "metadata": {
    "collapsed": true
   },
   "outputs": [],
   "source": [
    "#3. 做flat list: giving [1,2,[3,4,[5,6]], 7] ==> [1,2,3,4,5,6,7]\n",
    "\n",
    "def flat(inp, rslt=[]):\n",
    "    if len(inp) == 0:\n",
    "        return []\n",
    "    for item in inp:\n",
    "        if isinstance(item, list)>0:\n",
    "            flat(item, rslt)\n",
    "        else:\n",
    "            rslt.append(item)\n",
    "    return rslt\n",
    "def flat2(l):\n",
    "    return [item for sublist in l for item in sublist]\n",
    "def factoria(num):\n",
    "    if num <= 0:\n",
    "        return 'null vale'\n",
    "    if num == 1:\n",
    "        return 1\n",
    "    else:\n",
    "        return num * factoria(num-1)\n",
    "def percentile(inp, perct):\n",
    "    import math as math\n",
    "    inp = sorted(inp)\n",
    "    length = len(inp)\n",
    "    index = math.ceil(length * perct)-1\n",
    "    return inp[index]\n",
    "\n",
    "    "
   ]
  },
  {
   "cell_type": "code",
   "execution_count": 68,
   "metadata": {
    "collapsed": false
   },
   "outputs": [
    {
     "name": "stdout",
     "output_type": "stream",
     "text": [
      "[1, 2, 4, 5, 43]\n"
     ]
    }
   ],
   "source": [
    "flat([1,2,[3,4,[5,6]], 7,[9,10]])\n",
    "a=[1,2,43,4,5]\n",
    "print(sorted(a))"
   ]
  },
  {
   "cell_type": "code",
   "execution_count": 76,
   "metadata": {
    "collapsed": false
   },
   "outputs": [
    {
     "data": {
      "text/plain": [
       "4"
      ]
     },
     "execution_count": 76,
     "metadata": {},
     "output_type": "execute_result"
    }
   ],
   "source": [
    "percentile([2,24,4,2,4], 0.75)"
   ]
  },
  {
   "cell_type": "code",
   "execution_count": 78,
   "metadata": {
    "collapsed": false
   },
   "outputs": [
    {
     "data": {
      "text/plain": [
       "4.0"
      ]
     },
     "execution_count": 78,
     "metadata": {},
     "output_type": "execute_result"
    }
   ],
   "source": [
    "import numpy as np\n",
    "np.percentile([2,24,4,2,4], 75)"
   ]
  },
  {
   "cell_type": "code",
   "execution_count": 85,
   "metadata": {
    "collapsed": false
   },
   "outputs": [],
   "source": [
    "def get_list(inp):\n",
    "    rslt_dict = dict()\n",
    "    for item in inp:\n",
    "        if item in rslt_dict.keys():\n",
    "            rslt_dict[item] += 1\n",
    "        else:\n",
    "            rslt_dict[item] = 0\n",
    "    return sorted(rslt_dict, key = rslt_dict.get, reverse=True)"
   ]
  },
  {
   "cell_type": "code",
   "execution_count": 86,
   "metadata": {
    "collapsed": false
   },
   "outputs": [
    {
     "data": {
      "text/plain": [
       "[2, 1, 0, 3, 4, 5]"
      ]
     },
     "execution_count": 86,
     "metadata": {},
     "output_type": "execute_result"
    }
   ],
   "source": [
    "get_list([1, 2, 1, 0, 5, 2, 4, 2, 3, 0, 1, 3, 2, 4 ])"
   ]
  },
  {
   "cell_type": "code",
   "execution_count": 93,
   "metadata": {
    "collapsed": false
   },
   "outputs": [],
   "source": [
    "a = {'a':1, 'b':2}\n"
   ]
  },
  {
   "cell_type": "code",
   "execution_count": 96,
   "metadata": {
    "collapsed": false
   },
   "outputs": [
    {
     "data": {
      "text/plain": [
       "NoneType"
      ]
     },
     "execution_count": 96,
     "metadata": {},
     "output_type": "execute_result"
    }
   ],
   "source": [
    "a.get(1)"
   ]
  },
  {
   "cell_type": "code",
   "execution_count": 151,
   "metadata": {
    "collapsed": false
   },
   "outputs": [],
   "source": [
    "def power_fun(m:int, n:int):\n",
    "    if n == 0:\n",
    "        return 1\n",
    "    elif n == 1:\n",
    "        return m\n",
    "    else:\n",
    "        return m * power_fun(m, n-1) \n"
   ]
  },
  {
   "cell_type": "code",
   "execution_count": 153,
   "metadata": {
    "collapsed": false
   },
   "outputs": [
    {
     "name": "stdout",
     "output_type": "stream",
     "text": [
      "8\n"
     ]
    }
   ],
   "source": [
    "print(power_fun(2,3))"
   ]
  },
  {
   "cell_type": "code",
   "execution_count": 17,
   "metadata": {
    "collapsed": true
   },
   "outputs": [],
   "source": [
    "def move_avg(inp, k):\n",
    "    '''\n",
    "    Input:\n",
    "    a = [1,2,3,4,5,6,7]\n",
    "    k = 3\n",
    "\n",
    "    Output:\n",
    "    [2,3,4,5,6]\n",
    "\n",
    "    '''\n",
    "    rslt = []\n",
    "    for i in range(len(inp)-k+1):\n",
    "        cumsum = 0\n",
    "        for j in range(i,i+k):\n",
    "            cumsum += inp[j]/k\n",
    "        rslt.append(cumsum)\n",
    "    return rslt"
   ]
  },
  {
   "cell_type": "code",
   "execution_count": null,
   "metadata": {
    "collapsed": true
   },
   "outputs": [],
   "source": [
    "def move_avg(inp, k):\n",
    "\n",
    "    rslt = []\n",
    "    for i in range(len(inp)-k+1):\n",
    "        cumsum = 0\n",
    "        for j in range(i,i+k):\n",
    "            cumsum += inp[j]/k\n",
    "        rslt.append(cumsum)\n",
    "    return rslt"
   ]
  },
  {
   "cell_type": "code",
   "execution_count": 21,
   "metadata": {
    "collapsed": false
   },
   "outputs": [
    {
     "data": {
      "text/plain": [
       "[2.5, 3.5, 4.5, 5.5]"
      ]
     },
     "execution_count": 21,
     "metadata": {},
     "output_type": "execute_result"
    }
   ],
   "source": [
    "move_avg([1,2,3,4,5,6,7], 4)"
   ]
  },
  {
   "cell_type": "code",
   "execution_count": null,
   "metadata": {
    "collapsed": true
   },
   "outputs": [],
   "source": [
    "def stop_target(inp, target):\n",
    "    '''\n",
    "    stream = [1,7,3,1,15,2,...]\n",
    "    target = 5\n",
    "    returns at the 4th element because 1 + 3 + 1 = 5 (edited)\n",
    "    '''\n",
    "    \n"
   ]
  },
  {
   "cell_type": "code",
   "execution_count": 64,
   "metadata": {
    "collapsed": false
   },
   "outputs": [
    {
     "name": "stdout",
     "output_type": "stream",
     "text": [
      "v 2 candidates [2, 3, 6, 7] current [2] result []\n",
      "v 2 candidates [2, 3, 6, 7] current [2, 2] result []\n",
      "v 2 candidates [2, 3, 6, 7] current [2, 2, 2] result []\n",
      "v 2 candidates [2, 3, 6, 7] current [2, 2, 2, 2] result []\n",
      "v 3 candidates [3, 6, 7] current [2, 2, 2, 3] result []\n",
      "v 6 candidates [6, 7] current [2, 2, 2, 6] result []\n",
      "v 7 candidates [7] current [2, 2, 2, 7] result []\n",
      "v 3 candidates [3, 6, 7] current [2, 2, 3] result []\n",
      "v 6 candidates [6, 7] current [2, 2, 6] result [[2, 2, 3]]\n",
      "v 7 candidates [7] current [2, 2, 7] result [[2, 2, 3]]\n",
      "v 3 candidates [3, 6, 7] current [2, 3] result [[2, 2, 3]]\n",
      "v 3 candidates [3, 6, 7] current [2, 3, 3] result [[2, 2, 3]]\n",
      "v 6 candidates [6, 7] current [2, 3, 6] result [[2, 2, 3]]\n",
      "v 7 candidates [7] current [2, 3, 7] result [[2, 2, 3]]\n",
      "v 6 candidates [6, 7] current [2, 6] result [[2, 2, 3]]\n",
      "v 7 candidates [7] current [2, 7] result [[2, 2, 3]]\n",
      "v 3 candidates [3, 6, 7] current [3] result [[2, 2, 3]]\n",
      "v 3 candidates [3, 6, 7] current [3, 3] result [[2, 2, 3]]\n",
      "v 3 candidates [3, 6, 7] current [3, 3, 3] result [[2, 2, 3]]\n",
      "v 6 candidates [6, 7] current [3, 3, 6] result [[2, 2, 3]]\n",
      "v 7 candidates [7] current [3, 3, 7] result [[2, 2, 3]]\n",
      "v 6 candidates [6, 7] current [3, 6] result [[2, 2, 3]]\n",
      "v 7 candidates [7] current [3, 7] result [[2, 2, 3]]\n",
      "v 6 candidates [6, 7] current [6] result [[2, 2, 3]]\n",
      "v 6 candidates [6, 7] current [6, 6] result [[2, 2, 3]]\n",
      "v 7 candidates [7] current [6, 7] result [[2, 2, 3]]\n",
      "v 7 candidates [7] current [7] result [[2, 2, 3]]\n"
     ]
    }
   ],
   "source": [
    "def combination(candidates, target, current, result):\n",
    "    # print(candidates)\n",
    "    s = sum(current) if current else 0\n",
    "    if s > target:\n",
    "        #print('s',s)\n",
    "        return\n",
    "    elif s == target:\n",
    "        result.append(current)\n",
    "        return\n",
    "    else:\n",
    "        for i, v in enumerate(candidates):\n",
    "            print('v',v, 'candidates', candidates[i:], 'current', current + [v], 'result', result)\n",
    "            combination(candidates[i:], target, current + [v], result)\n",
    "\n",
    "combination([2, 3, 6, 7], 7, [],[])"
   ]
  },
  {
   "cell_type": "code",
   "execution_count": 213,
   "metadata": {
    "collapsed": false
   },
   "outputs": [
    {
     "name": "stdout",
     "output_type": "stream",
     "text": [
      "candidates [1, 2, 7, 6, 1, 5] current [10] result []\n",
      "candidates [2, 7, 6, 1, 5] current [1] result []\n",
      "candidates [7, 6, 1, 5] current [1, 2] result []\n",
      "candidates [6, 1, 5] current [1, 2, 7] result []\n",
      "candidates [1, 5] current [1, 2, 6] result []\n",
      "candidates [5] current [1, 2, 1] result []\n",
      "candidates [] current [1, 2, 1, 5] result []\n",
      "candidates [] current [1, 2, 5] result []\n",
      "candidates [6, 1, 5] current [1, 7] result []\n",
      "candidates [1, 5] current [1, 6] result []\n",
      "[[1, 6]] result\n",
      "candidates [5] current [1, 1] result [[1, 6]]\n",
      "candidates [] current [1, 1, 5] result [[1, 6]]\n",
      "[[1, 6], [1, 1, 5]] result\n",
      "candidates [] current [1, 5] result [[1, 6], [1, 1, 5]]\n",
      "candidates [7, 6, 1, 5] current [2] result [[1, 6], [1, 1, 5]]\n",
      "candidates [6, 1, 5] current [2, 7] result [[1, 6], [1, 1, 5]]\n",
      "candidates [1, 5] current [2, 6] result [[1, 6], [1, 1, 5]]\n",
      "candidates [5] current [2, 1] result [[1, 6], [1, 1, 5]]\n",
      "candidates [] current [2, 1, 5] result [[1, 6], [1, 1, 5]]\n",
      "candidates [] current [2, 5] result [[1, 6], [1, 1, 5]]\n",
      "[[1, 6], [1, 1, 5], [2, 5]] result\n",
      "candidates [6, 1, 5] current [7] result [[1, 6], [1, 1, 5], [2, 5]]\n",
      "[[1, 6], [1, 1, 5], [2, 5], [7]] result\n",
      "candidates [1, 5] current [6] result [[1, 6], [1, 1, 5], [2, 5], [7]]\n",
      "candidates [5] current [6, 1] result [[1, 6], [1, 1, 5], [2, 5], [7]]\n",
      "[[1, 6], [1, 1, 5], [2, 5], [7], [6, 1]] result\n",
      "candidates [] current [6, 5] result [[1, 6], [1, 1, 5], [2, 5], [7], [6, 1]]\n",
      "candidates [5] current [1] result [[1, 6], [1, 1, 5], [2, 5], [7], [6, 1]]\n",
      "candidates [] current [1, 5] result [[1, 6], [1, 1, 5], [2, 5], [7], [6, 1]]\n",
      "candidates [] current [5] result [[1, 6], [1, 1, 5], [2, 5], [7], [6, 1]]\n"
     ]
    }
   ],
   "source": [
    "def combination(candidates, target, current, result):\n",
    "    s = sum(current) if current else 0\n",
    "    if s > target:\n",
    "        return\n",
    "    elif s == target:\n",
    "        result.append(current)\n",
    "        print(result, 'result')\n",
    "        return j\n",
    "    else:\n",
    "        i = 0\n",
    "        while i >= 0:\n",
    "            print('candidates', candidates[i+1:], 'current', current + [candidates[i]], 'result', result)\n",
    "            combination(candidates[i + 1:], target, current + [candidates[i]], result)\n",
    "            # ignore repeating elements\n",
    "            while i + 1 < len(candidates) and candidates[i] == candidates[i + 1]:\n",
    "                print(candidate[i],'haha')\n",
    "                i += 1\n",
    "            i += 1\n",
    "combination([10, 1, 2, 7, 6, 1, 1, 5], 7, [],[])\n"
   ]
  },
  {
   "cell_type": "code",
   "execution_count": 37,
   "metadata": {
    "collapsed": true
   },
   "outputs": [],
   "source": [
    "\n",
    "def DFS(candidates, target, start, valuelist, result):\n",
    "    candidates = sorted(candidates)\n",
    "    length = len(candidates)\n",
    "    if target == 0 and valuelist not in result: \n",
    "        print(result)\n",
    "        return result.append(valuelist)\n",
    "    for i in range(start, length):\n",
    "        if target < candidates[i]:\n",
    "            return\n",
    "        print(start, i, candidates, target - candidates[i], valuelist + [candidates[i]])\n",
    "        DFS(candidates, target - candidates[i], i + 1, valuelist + [candidates[i]], result)"
   ]
  },
  {
   "cell_type": "code",
   "execution_count": 38,
   "metadata": {
    "collapsed": false
   },
   "outputs": [
    {
     "name": "stdout",
     "output_type": "stream",
     "text": [
      "0 0 [1, 1, 2, 5, 6, 7, 10] 7 [1]\n",
      "1 1 [1, 1, 2, 5, 6, 7, 10] 6 [1, 1]\n",
      "2 2 [1, 1, 2, 5, 6, 7, 10] 4 [1, 1, 2]\n",
      "2 3 [1, 1, 2, 5, 6, 7, 10] 1 [1, 1, 5]\n",
      "2 4 [1, 1, 2, 5, 6, 7, 10] 0 [1, 1, 6]\n",
      "[]\n",
      "1 2 [1, 1, 2, 5, 6, 7, 10] 5 [1, 2]\n",
      "3 3 [1, 1, 2, 5, 6, 7, 10] 0 [1, 2, 5]\n",
      "[[1, 1, 6]]\n",
      "1 3 [1, 1, 2, 5, 6, 7, 10] 2 [1, 5]\n",
      "1 4 [1, 1, 2, 5, 6, 7, 10] 1 [1, 6]\n",
      "1 5 [1, 1, 2, 5, 6, 7, 10] 0 [1, 7]\n",
      "[[1, 1, 6], [1, 2, 5]]\n",
      "0 1 [1, 1, 2, 5, 6, 7, 10] 7 [1]\n",
      "2 2 [1, 1, 2, 5, 6, 7, 10] 5 [1, 2]\n",
      "3 3 [1, 1, 2, 5, 6, 7, 10] 0 [1, 2, 5]\n",
      "2 3 [1, 1, 2, 5, 6, 7, 10] 2 [1, 5]\n",
      "2 4 [1, 1, 2, 5, 6, 7, 10] 1 [1, 6]\n",
      "2 5 [1, 1, 2, 5, 6, 7, 10] 0 [1, 7]\n",
      "0 2 [1, 1, 2, 5, 6, 7, 10] 6 [2]\n",
      "3 3 [1, 1, 2, 5, 6, 7, 10] 1 [2, 5]\n",
      "3 4 [1, 1, 2, 5, 6, 7, 10] 0 [2, 6]\n",
      "[[1, 1, 6], [1, 2, 5], [1, 7]]\n",
      "0 3 [1, 1, 2, 5, 6, 7, 10] 3 [5]\n",
      "0 4 [1, 1, 2, 5, 6, 7, 10] 2 [6]\n",
      "0 5 [1, 1, 2, 5, 6, 7, 10] 1 [7]\n"
     ]
    }
   ],
   "source": [
    "DFS([10,1,2,7,6,1,5], 8, 0, [], [])"
   ]
  },
  {
   "cell_type": "code",
   "execution_count": 26,
   "metadata": {
    "collapsed": true
   },
   "outputs": [],
   "source": [
    "def find_sum_infi_stream(stream, target):\n",
    "    count = 0\n",
    "    candi = []\n",
    "    bl = True\n",
    "    while bl:\n",
    "        ans = set()\n",
    "        try:\n",
    "            candi.append(stream[count])\n",
    "            if count == 0:\n",
    "                if stream[count] == target: return count+1\n",
    "            else:  \n",
    "                combination(0, len(candi[:count]), candi[:count], [], ans, stream[count])\n",
    "                print(ans, candi[:count], stream[count])\n",
    "                if target in ans:\n",
    "                    bl = False\n",
    "            count += 1\n",
    "        except IndexError:\n",
    "            print('Search exhausted, none such combination was found')\n",
    "            break\n",
    "    return count\n",
    "\n",
    "def combination(cur,length,S,res,ans, cur_nb):\n",
    "    S = sorted(S)\n",
    "    ans.add(sum(res)+cur_nb)\n",
    "    i=cur\n",
    "    while i < length:\n",
    "        res.append(S[i])\n",
    "        combination(i+1, length, S, res, ans, cur_nb)\n",
    "        while i+1<length and S[i]==S[i+1]: i+=1\n",
    "        res.pop()\n",
    "        i+=1"
   ]
  },
  {
   "cell_type": "code",
   "execution_count": 36,
   "metadata": {
    "collapsed": false
   },
   "outputs": [
    {
     "name": "stdout",
     "output_type": "stream",
     "text": [
      "{9, 7} [2] 7\n",
      "{10, 3, 12, 5} [2, 7] 3\n",
      "{1, 3, 4, 6, 8, 10, 11, 13} [2, 7, 3] 1\n"
     ]
    },
    {
     "data": {
      "text/plain": [
       "4"
      ]
     },
     "execution_count": 36,
     "metadata": {},
     "output_type": "execute_result"
    }
   ],
   "source": [
    "find_sum_infi_stream([2,7,3,1,10,2], 11)"
   ]
  },
  {
   "cell_type": "code",
   "execution_count": 61,
   "metadata": {
    "collapsed": false
   },
   "outputs": [],
   "source": [
    "\n",
    "def solve(cur,n,S,res,ans):  \n",
    "    print(res)\n",
    "    ans.append(res[:])\n",
    "    i=cur\n",
    "    while i < n:\n",
    "        res.append(S[i])\n",
    "        solve(i+1, len(S), S, res, ans)\n",
    "        while i+1<n and S[i]==S[i+1]: i+=1\n",
    "        res.pop()\n",
    "        i+=1"
   ]
  },
  {
   "cell_type": "code",
   "execution_count": 62,
   "metadata": {
    "collapsed": false
   },
   "outputs": [
    {
     "name": "stdout",
     "output_type": "stream",
     "text": [
      "[]\n",
      "[3]\n",
      "[3, 3]\n",
      "[3, 3, 5]\n",
      "[3, 3, 5, 45]\n",
      "[3, 3, 45]\n",
      "[3, 5]\n",
      "[3, 5, 45]\n",
      "[3, 45]\n",
      "[5]\n",
      "[5, 45]\n",
      "[45]\n"
     ]
    },
    {
     "data": {
      "text/plain": [
       "[[],\n",
       " [3],\n",
       " [3, 3],\n",
       " [3, 3, 5],\n",
       " [3, 3, 5, 45],\n",
       " [3, 3, 45],\n",
       " [3, 5],\n",
       " [3, 5, 45],\n",
       " [3, 45],\n",
       " [5],\n",
       " [5, 45],\n",
       " [45]]"
      ]
     },
     "execution_count": 62,
     "metadata": {},
     "output_type": "execute_result"
    }
   ],
   "source": [
    "ans = []\n",
    "solve(0,4,[3,3,5,45],[],ans)\n",
    "ans"
   ]
  },
  {
   "cell_type": "code",
   "execution_count": 207,
   "metadata": {
    "collapsed": false
   },
   "outputs": [
    {
     "data": {
      "text/plain": [
       "[[1, 1, 5], [1, 6], [2, 5], [7]]"
      ]
     },
     "execution_count": 207,
     "metadata": {},
     "output_type": "execute_result"
    }
   ],
   "source": [
    "class Solution(object):\n",
    "    def combinationSum2(self, candidates, target):\n",
    "        \"\"\"\n",
    "        :type candidates: List[int]\n",
    "        :type target: int\n",
    "        :rtype: List[List[int]]\n",
    "        \"\"\"\n",
    "        if not candidates:\n",
    "            return []\n",
    "        candidates.sort()\n",
    "        result = []\n",
    "        self.combination(candidates, target, [], result)\n",
    "        return result\n",
    "\n",
    "    def combination(self, candidates, target, current, result):\n",
    "        s = sum(current) if current else 0\n",
    "        if s > target:\n",
    "            return\n",
    "        elif s == target:\n",
    "            result.append(current)\n",
    "            return\n",
    "        else:\n",
    "            i = 0\n",
    "            while i < len(candidates):\n",
    "                self.combination(candidates[i + 1:], target, current + [candidates[i]], result)\n",
    "                # ignore repeating elements\n",
    "                while i + 1 < len(candidates) and candidates[i] == candidates[i + 1]:\n",
    "                    i += 1\n",
    "                i += 1\n",
    "Solution().combinationSum2([10, 1, 2, 7, 6, 1, 5], 7)"
   ]
  },
  {
   "cell_type": "code",
   "execution_count": 191,
   "metadata": {
    "collapsed": false
   },
   "outputs": [
    {
     "data": {
      "text/plain": [
       "3"
      ]
     },
     "execution_count": 191,
     "metadata": {},
     "output_type": "execute_result"
    }
   ],
   "source": [
    "def fabi(n):\n",
    "    if n == 0:\n",
    "        return 0\n",
    "    elif n == 1:\n",
    "        return 1\n",
    "    else:\n",
    "        return fabi(n-1) + fabi(n-2)\n",
    "\n",
    "fabi(4)"
   ]
  },
  {
   "cell_type": "code",
   "execution_count": 74,
   "metadata": {
    "collapsed": false
   },
   "outputs": [],
   "source": [
    "import pandas as pd\n",
    "eb1_NSC = pd.read_csv('/Users/djl358/Documents/new_search/EB1_NSC.csv')"
   ]
  },
  {
   "cell_type": "code",
   "execution_count": 81,
   "metadata": {
    "collapsed": false
   },
   "outputs": [
    {
     "data": {
      "text/plain": [
       "array(['140_PP 140_485 CC', 'Center', 'Type', 'Revice Date(RD)',\n",
       "       'FP Notice Date', 'Days from RD to FP Notice Date', 'Unnamed: 6',\n",
       "       'FP Date', 'Walk in?', 'Location', 'AP_EAD AD',\n",
       "       'Days from RD to AP_EAD AD', '485 AD', 'Days from RD',\n",
       "       'Days from FP Date to 485 AD', 'Days from RD to 485 AD',\n",
       "       'Unnamed: 16', 'Unnamed: 17', 'Unnamed: 18'], dtype=object)"
      ]
     },
     "execution_count": 81,
     "metadata": {},
     "output_type": "execute_result"
    }
   ],
   "source": [
    "eb1_NSC.columns.values"
   ]
  },
  {
   "cell_type": "code",
   "execution_count": 82,
   "metadata": {
    "collapsed": false
   },
   "outputs": [
    {
     "data": {
      "text/plain": [
       "0            NaN\n",
       "1            NaN\n",
       "2            NaN\n",
       "3            NaN\n",
       "4            NaN\n",
       "5            NaN\n",
       "6            NaN\n",
       "7       Blessing\n",
       "8            NaN\n",
       "9            NaN\n",
       "10           NaN\n",
       "11      Blessing\n",
       "12      Blessing\n",
       "13      Blessing\n",
       "14      Blessing\n",
       "15      Blessing\n",
       "16      Blessing\n",
       "17      Blessing\n",
       "18      Blessing\n",
       "19        5/8/16\n",
       "20      Blessing\n",
       "21      Blessing\n",
       "22      Blessing\n",
       "23      Blessing\n",
       "24      Blessing\n",
       "25      Blessing\n",
       "26      Blessing\n",
       "27      Blessing\n",
       "28      Blessing\n",
       "29      Blessing\n",
       "          ...   \n",
       "1142    11/15/12\n",
       "1143    10/12/12\n",
       "1144    10/31/12\n",
       "1145    11/19/12\n",
       "1146     11/2/12\n",
       "1147    10/23/12\n",
       "1148    10/29/12\n",
       "1149      1/2/13\n",
       "1150      9/7/12\n",
       "1151    10/15/12\n",
       "1152     12/6/12\n",
       "1153     12/6/12\n",
       "1154     8/21/12\n",
       "1155     8/10/12\n",
       "1156      7/2/12\n",
       "1157         NaN\n",
       "1158    Blessing\n",
       "1159    Blessing\n",
       "1160     5/26/15\n",
       "1161    Blessing\n",
       "1162    Blessing\n",
       "1163    Blessing\n",
       "1164    Blessing\n",
       "1165    Blessing\n",
       "1166    Blessing\n",
       "1167    Blessing\n",
       "1168     6/25/16\n",
       "1169    Blessing\n",
       "1170    Blessing\n",
       "1171    Blessing\n",
       "Name: 485 AD, dtype: object"
      ]
     },
     "execution_count": 82,
     "metadata": {},
     "output_type": "execute_result"
    }
   ],
   "source": [
    "eb1_NSC['485 AD'].apply(lambda x: x if x)"
   ]
  },
  {
   "cell_type": "code",
   "execution_count": 2,
   "metadata": {
    "collapsed": false
   },
   "outputs": [],
   "source": [
    "class Solution(object):\n",
    "    def isValid(self, s):\n",
    "        \"\"\"\n",
    "        :type s: str\n",
    "        :rtype: bool\n",
    "        \"\"\"\n",
    "        stack = []\n",
    "        if len(s)%2 != 0:\n",
    "            return False\n",
    "        else:\n",
    "            for i in range(len(s)):\n",
    "                if s[i] in ('[', '{', '('):\n",
    "                    stack.append(s[i])\n",
    "                elif s[i] == ']' and stack[-1] == '[':\n",
    "                    stack.pop()\n",
    "                elif s[i] == '}' and stack[-1] == '{':\n",
    "                    stack.pop()\n",
    "                elif s[i] == ')' and stack[-1] == '(':\n",
    "                    stack.pop()\n",
    "                else:\n",
    "                    stack.append(s[i])\n",
    "            if stack == []:\n",
    "                return True\n",
    "            else:\n",
    "                return False"
   ]
  },
  {
   "cell_type": "code",
   "execution_count": 5,
   "metadata": {
    "collapsed": false
   },
   "outputs": [
    {
     "ename": "IndexError",
     "evalue": "list index out of range",
     "output_type": "error",
     "traceback": [
      "\u001b[0;31m---------------------------------------------------------------------------\u001b[0m",
      "\u001b[0;31mIndexError\u001b[0m                                Traceback (most recent call last)",
      "\u001b[0;32m<ipython-input-5-8bdc28708512>\u001b[0m in \u001b[0;36m<module>\u001b[0;34m()\u001b[0m\n\u001b[1;32m      1\u001b[0m \u001b[0mc\u001b[0m\u001b[0;34m=\u001b[0m \u001b[0mSolution\u001b[0m\u001b[0;34m(\u001b[0m\u001b[0;34m)\u001b[0m\u001b[0;34m\u001b[0m\u001b[0m\n\u001b[0;32m----> 2\u001b[0;31m \u001b[0mc\u001b[0m\u001b[0;34m.\u001b[0m\u001b[0misValid\u001b[0m\u001b[0;34m(\u001b[0m\u001b[0;34m')('\u001b[0m\u001b[0;34m)\u001b[0m\u001b[0;34m\u001b[0m\u001b[0m\n\u001b[0m",
      "\u001b[0;32m<ipython-input-2-c587f1ac519a>\u001b[0m in \u001b[0;36misValid\u001b[0;34m(self, s)\u001b[0m\n\u001b[1;32m     16\u001b[0m                 \u001b[0;32melif\u001b[0m \u001b[0ms\u001b[0m\u001b[0;34m[\u001b[0m\u001b[0mi\u001b[0m\u001b[0;34m]\u001b[0m \u001b[0;34m==\u001b[0m \u001b[0;34m'}'\u001b[0m \u001b[0;32mand\u001b[0m \u001b[0mstack\u001b[0m\u001b[0;34m[\u001b[0m\u001b[0;34m-\u001b[0m\u001b[0;36m1\u001b[0m\u001b[0;34m]\u001b[0m \u001b[0;34m==\u001b[0m \u001b[0;34m'{'\u001b[0m\u001b[0;34m:\u001b[0m\u001b[0;34m\u001b[0m\u001b[0m\n\u001b[1;32m     17\u001b[0m                     \u001b[0mstack\u001b[0m\u001b[0;34m.\u001b[0m\u001b[0mpop\u001b[0m\u001b[0;34m(\u001b[0m\u001b[0;34m)\u001b[0m\u001b[0;34m\u001b[0m\u001b[0m\n\u001b[0;32m---> 18\u001b[0;31m                 \u001b[0;32melif\u001b[0m \u001b[0ms\u001b[0m\u001b[0;34m[\u001b[0m\u001b[0mi\u001b[0m\u001b[0;34m]\u001b[0m \u001b[0;34m==\u001b[0m \u001b[0;34m')'\u001b[0m \u001b[0;32mand\u001b[0m \u001b[0mstack\u001b[0m\u001b[0;34m[\u001b[0m\u001b[0;34m-\u001b[0m\u001b[0;36m1\u001b[0m\u001b[0;34m]\u001b[0m \u001b[0;34m==\u001b[0m \u001b[0;34m'('\u001b[0m\u001b[0;34m:\u001b[0m\u001b[0;34m\u001b[0m\u001b[0m\n\u001b[0m\u001b[1;32m     19\u001b[0m                     \u001b[0mstack\u001b[0m\u001b[0;34m.\u001b[0m\u001b[0mpop\u001b[0m\u001b[0;34m(\u001b[0m\u001b[0;34m)\u001b[0m\u001b[0;34m\u001b[0m\u001b[0m\n\u001b[1;32m     20\u001b[0m                 \u001b[0;32melse\u001b[0m\u001b[0;34m:\u001b[0m\u001b[0;34m\u001b[0m\u001b[0m\n",
      "\u001b[0;31mIndexError\u001b[0m: list index out of range"
     ]
    }
   ],
   "source": [
    "c= Solution()\n",
    "c.isValid(')(')"
   ]
  }
 ],
 "metadata": {
  "anaconda-cloud": {},
  "kernelspec": {
   "display_name": "Python [default]",
   "language": "python",
   "name": "python3"
  },
  "language_info": {
   "codemirror_mode": {
    "name": "ipython",
    "version": 3
   },
   "file_extension": ".py",
   "mimetype": "text/x-python",
   "name": "python",
   "nbconvert_exporter": "python",
   "pygments_lexer": "ipython3",
   "version": "3.5.2"
  }
 },
 "nbformat": 4,
 "nbformat_minor": 2
}
