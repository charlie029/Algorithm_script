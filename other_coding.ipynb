{
 "cells": [
  {
   "cell_type": "code",
   "execution_count": 5,
   "metadata": {
    "collapsed": false
   },
   "outputs": [],
   "source": [
    "def reverse(inp):\n",
    "    if len(inp) == 0:\n",
    "        return []\n",
    "    return [inp[-1]]+reverse(inp[:-1])"
   ]
  },
  {
   "cell_type": "code",
   "execution_count": 6,
   "metadata": {
    "collapsed": false
   },
   "outputs": [
    {
     "data": {
      "text/plain": [
       "[2, 2, 2, 1]"
      ]
     },
     "execution_count": 6,
     "metadata": {},
     "output_type": "execute_result"
    }
   ],
   "source": [
    "reverse([1, 2, 2, 2])"
   ]
  },
  {
   "cell_type": "code",
   "execution_count": 11,
   "metadata": {
    "collapsed": true
   },
   "outputs": [],
   "source": [
    "class Classy(object):\n",
    "    def __init__(self):\n",
    "        self.items = []\n",
    "    def addItem(self, item):\n",
    "        self.items.append(item)\n",
    "    def getClassiness(self):\n",
    "        score = {\"tophat\":2, \"bowtie\":4, \"monocle\":5}\n",
    "        rslt = 0\n",
    "        for item in self.items:\n",
    "            if item in score.keys():\n",
    "                rslt += score[item]\n",
    "        return rslt\n"
   ]
  },
  {
   "cell_type": "code",
   "execution_count": 15,
   "metadata": {
    "collapsed": false
   },
   "outputs": [
    {
     "name": "stdout",
     "output_type": "stream",
     "text": [
      "0\n",
      "2\n",
      "13\n"
     ]
    }
   ],
   "source": [
    "# Test cases\n",
    "me = Classy()\n",
    "print(me.getClassiness())\n",
    "\n",
    "me.addItem(\"tophat\")\n",
    "# Should be 2\n",
    "print(me.getClassiness())\n",
    "me.addItem(\"tophat\")\n",
    "me.addItem(\"bowtie\")\n",
    "me.addItem(\"jacket\")\n",
    "me.addItem(\"monocle\")\n",
    "# Should be 11\n",
    "print(me.getClassiness())\n"
   ]
  },
  {
   "cell_type": "code",
   "execution_count": 83,
   "metadata": {
    "collapsed": false
   },
   "outputs": [],
   "source": [
    "class Element(object):\n",
    "    def __init__(self, value):\n",
    "        self.value = value\n",
    "        self.next = None\n",
    "        \n",
    "class LinkedList(object):\n",
    "    def __init__(self, head=None):\n",
    "        self.head = head\n",
    "        \n",
    "    def append(self, new_element):\n",
    "        current = self.head\n",
    "        if self.head:\n",
    "            while current.next:\n",
    "                current = current.next\n",
    "            current.next = new_element\n",
    "        else:\n",
    "            self.head = new_element\n",
    "            \n",
    "    def get_position(self, position):\n",
    "        \"\"\"Get an element from a particular position.\n",
    "        Assume the first position is \"1\".\n",
    "        Return \"None\" if position is not in the list.\"\"\"\n",
    "        i = 0\n",
    "        current = self.head\n",
    "        if position <= 0:\n",
    "            return None\n",
    "        while current.next:\n",
    "            if position == i + 1:\n",
    "                print('5fefe')\n",
    "                current = current.next\n",
    "                return current\n",
    "            i += 1\n",
    "            current = current.next\n",
    "        return None"
   ]
  },
  {
   "cell_type": "code",
   "execution_count": 84,
   "metadata": {
    "collapsed": true
   },
   "outputs": [],
   "source": [
    "e1 = Element(1)\n",
    "e2 = Element(2)\n",
    "e3 = Element(3)\n",
    "e4 = Element(4)"
   ]
  },
  {
   "cell_type": "code",
   "execution_count": 85,
   "metadata": {
    "collapsed": false
   },
   "outputs": [],
   "source": [
    "ll = LinkedList(e1)\n",
    "ll.append(e2)\n",
    "ll.append(e3)\n"
   ]
  },
  {
   "cell_type": "code",
   "execution_count": 88,
   "metadata": {
    "collapsed": false
   },
   "outputs": [],
   "source": [
    "ll.head.next.next.next"
   ]
  },
  {
   "cell_type": "code",
   "execution_count": 93,
   "metadata": {
    "collapsed": false
   },
   "outputs": [
    {
     "name": "stdout",
     "output_type": "stream",
     "text": [
      "5fefe\n"
     ]
    },
    {
     "data": {
      "text/plain": [
       "<__main__.Element at 0x106cae8d0>"
      ]
     },
     "execution_count": 93,
     "metadata": {},
     "output_type": "execute_result"
    }
   ],
   "source": [
    "ll.get_position(2)"
   ]
  },
  {
   "cell_type": "code",
   "execution_count": 5,
   "metadata": {
    "collapsed": true
   },
   "outputs": [],
   "source": [
    "def counter_new(inp):\n",
    "    input_list = list(inp)\n",
    "    result = dict()\n",
    "    for item in input_list:\n",
    "        if item in result.keys():\n",
    "            result[item] += 1\n",
    "        else:\n",
    "            result[item] = 1\n",
    "    return result"
   ]
  },
  {
   "cell_type": "code",
   "execution_count": 6,
   "metadata": {
    "collapsed": false
   },
   "outputs": [
    {
     "data": {
      "text/plain": [
       "{'.': 1, 'c': 1, 'e': 1, 'g': 2, 'l': 1, 'm': 1, 'o': 3}"
      ]
     },
     "execution_count": 6,
     "metadata": {},
     "output_type": "execute_result"
    }
   ],
   "source": [
    "counter_new('google.com')"
   ]
  },
  {
   "cell_type": "code",
   "execution_count": 75,
   "metadata": {
    "collapsed": true
   },
   "outputs": [],
   "source": [
    "#3. 做flat list: giving [1,2,[3,4,[5,6]], 7] ==> [1,2,3,4,5,6,7]\n",
    "\n",
    "def flat(inp, rslt=[]):\n",
    "    if len(inp) == 0:\n",
    "        return []\n",
    "    for item in inp:\n",
    "        if isinstance(item, list)>0:\n",
    "            flat(item, rslt)\n",
    "        else:\n",
    "            rslt.append(item)\n",
    "    return rslt\n",
    "def flat2(l):\n",
    "    return [item for sublist in l for item in sublist]\n",
    "def factoria(num):\n",
    "    if num <= 0:\n",
    "        return 'null vale'\n",
    "    if num == 1:\n",
    "        return 1\n",
    "    else:\n",
    "        return num * factoria(num-1)\n",
    "def percentile(inp, perct):\n",
    "    import math as math\n",
    "    inp = sorted(inp)\n",
    "    length = len(inp)\n",
    "    index = math.ceil(length * perct)-1\n",
    "    return inp[index]\n",
    "\n",
    "    "
   ]
  },
  {
   "cell_type": "code",
   "execution_count": 68,
   "metadata": {
    "collapsed": false
   },
   "outputs": [
    {
     "name": "stdout",
     "output_type": "stream",
     "text": [
      "[1, 2, 4, 5, 43]\n"
     ]
    }
   ],
   "source": [
    "flat([1,2,[3,4,[5,6]], 7,[9,10]])\n",
    "a=[1,2,43,4,5]\n",
    "print(sorted(a))"
   ]
  },
  {
   "cell_type": "code",
   "execution_count": 76,
   "metadata": {
    "collapsed": false
   },
   "outputs": [
    {
     "data": {
      "text/plain": [
       "4"
      ]
     },
     "execution_count": 76,
     "metadata": {},
     "output_type": "execute_result"
    }
   ],
   "source": [
    "percentile([2,24,4,2,4], 0.75)"
   ]
  },
  {
   "cell_type": "code",
   "execution_count": 78,
   "metadata": {
    "collapsed": false
   },
   "outputs": [
    {
     "data": {
      "text/plain": [
       "4.0"
      ]
     },
     "execution_count": 78,
     "metadata": {},
     "output_type": "execute_result"
    }
   ],
   "source": [
    "import numpy as np\n",
    "np.percentile([2,24,4,2,4], 75)"
   ]
  },
  {
   "cell_type": "code",
   "execution_count": 85,
   "metadata": {
    "collapsed": false
   },
   "outputs": [],
   "source": [
    "def get_list(inp):\n",
    "    rslt_dict = dict()\n",
    "    for item in inp:\n",
    "        if item in rslt_dict.keys():\n",
    "            rslt_dict[item] += 1\n",
    "        else:\n",
    "            rslt_dict[item] = 0\n",
    "    return sorted(rslt_dict, key = rslt_dict.get, reverse=True)"
   ]
  },
  {
   "cell_type": "code",
   "execution_count": 86,
   "metadata": {
    "collapsed": false
   },
   "outputs": [
    {
     "data": {
      "text/plain": [
       "[2, 1, 0, 3, 4, 5]"
      ]
     },
     "execution_count": 86,
     "metadata": {},
     "output_type": "execute_result"
    }
   ],
   "source": [
    "get_list([1, 2, 1, 0, 5, 2, 4, 2, 3, 0, 1, 3, 2, 4 ])"
   ]
  },
  {
   "cell_type": "code",
   "execution_count": 93,
   "metadata": {
    "collapsed": false
   },
   "outputs": [],
   "source": [
    "a = {'a':1, 'b':2}\n"
   ]
  },
  {
   "cell_type": "code",
   "execution_count": 96,
   "metadata": {
    "collapsed": false
   },
   "outputs": [
    {
     "data": {
      "text/plain": [
       "NoneType"
      ]
     },
     "execution_count": 96,
     "metadata": {},
     "output_type": "execute_result"
    }
   ],
   "source": [
    "a.get(1)"
   ]
  },
  {
   "cell_type": "code",
   "execution_count": 151,
   "metadata": {
    "collapsed": false
   },
   "outputs": [],
   "source": [
    "def power_fun(m:int, n:int):\n",
    "    if n == 0:\n",
    "        return 1\n",
    "    elif n == 1:\n",
    "        return m\n",
    "    else:\n",
    "        return m * power_fun(m, n-1) \n"
   ]
  },
  {
   "cell_type": "code",
   "execution_count": 153,
   "metadata": {
    "collapsed": false
   },
   "outputs": [
    {
     "name": "stdout",
     "output_type": "stream",
     "text": [
      "8\n"
     ]
    }
   ],
   "source": [
    "print(power_fun(2,3))"
   ]
  },
  {
   "cell_type": "code",
   "execution_count": 17,
   "metadata": {
    "collapsed": true
   },
   "outputs": [],
   "source": [
    "def move_avg(inp, k):\n",
    "    '''\n",
    "    Input:\n",
    "    a = [1,2,3,4,5,6,7]\n",
    "    k = 3\n",
    "\n",
    "    Output:\n",
    "    [2,3,4,5,6]\n",
    "\n",
    "    '''\n",
    "    rslt = []\n",
    "    for i in range(len(inp)-k+1):\n",
    "        cumsum = 0\n",
    "        for j in range(i,i+k):\n",
    "            cumsum += inp[j]/k\n",
    "        rslt.append(cumsum)\n",
    "    return rslt"
   ]
  },
  {
   "cell_type": "code",
   "execution_count": null,
   "metadata": {
    "collapsed": true
   },
   "outputs": [],
   "source": [
    "def move_avg(inp, k):\n",
    "\n",
    "    rslt = []\n",
    "    for i in range(len(inp)-k+1):\n",
    "        cumsum = 0\n",
    "        for j in range(i,i+k):\n",
    "            cumsum += inp[j]/k\n",
    "        rslt.append(cumsum)\n",
    "    return rslt"
   ]
  },
  {
   "cell_type": "code",
   "execution_count": 21,
   "metadata": {
    "collapsed": false
   },
   "outputs": [
    {
     "data": {
      "text/plain": [
       "[2.5, 3.5, 4.5, 5.5]"
      ]
     },
     "execution_count": 21,
     "metadata": {},
     "output_type": "execute_result"
    }
   ],
   "source": [
    "move_avg([1,2,3,4,5,6,7], 4)"
   ]
  },
  {
   "cell_type": "code",
   "execution_count": 64,
   "metadata": {
    "collapsed": false
   },
   "outputs": [
    {
     "name": "stdout",
     "output_type": "stream",
     "text": [
      "v 2 candidates [2, 3, 6, 7] current [2] result []\n",
      "v 2 candidates [2, 3, 6, 7] current [2, 2] result []\n",
      "v 2 candidates [2, 3, 6, 7] current [2, 2, 2] result []\n",
      "v 2 candidates [2, 3, 6, 7] current [2, 2, 2, 2] result []\n",
      "v 3 candidates [3, 6, 7] current [2, 2, 2, 3] result []\n",
      "v 6 candidates [6, 7] current [2, 2, 2, 6] result []\n",
      "v 7 candidates [7] current [2, 2, 2, 7] result []\n",
      "v 3 candidates [3, 6, 7] current [2, 2, 3] result []\n",
      "v 6 candidates [6, 7] current [2, 2, 6] result [[2, 2, 3]]\n",
      "v 7 candidates [7] current [2, 2, 7] result [[2, 2, 3]]\n",
      "v 3 candidates [3, 6, 7] current [2, 3] result [[2, 2, 3]]\n",
      "v 3 candidates [3, 6, 7] current [2, 3, 3] result [[2, 2, 3]]\n",
      "v 6 candidates [6, 7] current [2, 3, 6] result [[2, 2, 3]]\n",
      "v 7 candidates [7] current [2, 3, 7] result [[2, 2, 3]]\n",
      "v 6 candidates [6, 7] current [2, 6] result [[2, 2, 3]]\n",
      "v 7 candidates [7] current [2, 7] result [[2, 2, 3]]\n",
      "v 3 candidates [3, 6, 7] current [3] result [[2, 2, 3]]\n",
      "v 3 candidates [3, 6, 7] current [3, 3] result [[2, 2, 3]]\n",
      "v 3 candidates [3, 6, 7] current [3, 3, 3] result [[2, 2, 3]]\n",
      "v 6 candidates [6, 7] current [3, 3, 6] result [[2, 2, 3]]\n",
      "v 7 candidates [7] current [3, 3, 7] result [[2, 2, 3]]\n",
      "v 6 candidates [6, 7] current [3, 6] result [[2, 2, 3]]\n",
      "v 7 candidates [7] current [3, 7] result [[2, 2, 3]]\n",
      "v 6 candidates [6, 7] current [6] result [[2, 2, 3]]\n",
      "v 6 candidates [6, 7] current [6, 6] result [[2, 2, 3]]\n",
      "v 7 candidates [7] current [6, 7] result [[2, 2, 3]]\n",
      "v 7 candidates [7] current [7] result [[2, 2, 3]]\n"
     ]
    }
   ],
   "source": [
    "def combination(candidates, target, current, result):\n",
    "    # print(candidates)\n",
    "    s = sum(current) if current else 0\n",
    "    if s > target:\n",
    "        #print('s',s)\n",
    "        return\n",
    "    elif s == target:\n",
    "        result.append(current)\n",
    "        return\n",
    "    else:\n",
    "        for i, v in enumerate(candidates):\n",
    "            print('v',v, 'candidates', candidates[i:], 'current', current + [v], 'result', result)\n",
    "            combination(candidates[i:], target, current + [v], result)\n",
    "\n",
    "combination([2, 3, 6, 7], 7, [],[])"
   ]
  },
  {
   "cell_type": "code",
   "execution_count": 213,
   "metadata": {
    "collapsed": false
   },
   "outputs": [
    {
     "name": "stdout",
     "output_type": "stream",
     "text": [
      "candidates [1, 2, 7, 6, 1, 5] current [10] result []\n",
      "candidates [2, 7, 6, 1, 5] current [1] result []\n",
      "candidates [7, 6, 1, 5] current [1, 2] result []\n",
      "candidates [6, 1, 5] current [1, 2, 7] result []\n",
      "candidates [1, 5] current [1, 2, 6] result []\n",
      "candidates [5] current [1, 2, 1] result []\n",
      "candidates [] current [1, 2, 1, 5] result []\n",
      "candidates [] current [1, 2, 5] result []\n",
      "candidates [6, 1, 5] current [1, 7] result []\n",
      "candidates [1, 5] current [1, 6] result []\n",
      "[[1, 6]] result\n",
      "candidates [5] current [1, 1] result [[1, 6]]\n",
      "candidates [] current [1, 1, 5] result [[1, 6]]\n",
      "[[1, 6], [1, 1, 5]] result\n",
      "candidates [] current [1, 5] result [[1, 6], [1, 1, 5]]\n",
      "candidates [7, 6, 1, 5] current [2] result [[1, 6], [1, 1, 5]]\n",
      "candidates [6, 1, 5] current [2, 7] result [[1, 6], [1, 1, 5]]\n",
      "candidates [1, 5] current [2, 6] result [[1, 6], [1, 1, 5]]\n",
      "candidates [5] current [2, 1] result [[1, 6], [1, 1, 5]]\n",
      "candidates [] current [2, 1, 5] result [[1, 6], [1, 1, 5]]\n",
      "candidates [] current [2, 5] result [[1, 6], [1, 1, 5]]\n",
      "[[1, 6], [1, 1, 5], [2, 5]] result\n",
      "candidates [6, 1, 5] current [7] result [[1, 6], [1, 1, 5], [2, 5]]\n",
      "[[1, 6], [1, 1, 5], [2, 5], [7]] result\n",
      "candidates [1, 5] current [6] result [[1, 6], [1, 1, 5], [2, 5], [7]]\n",
      "candidates [5] current [6, 1] result [[1, 6], [1, 1, 5], [2, 5], [7]]\n",
      "[[1, 6], [1, 1, 5], [2, 5], [7], [6, 1]] result\n",
      "candidates [] current [6, 5] result [[1, 6], [1, 1, 5], [2, 5], [7], [6, 1]]\n",
      "candidates [5] current [1] result [[1, 6], [1, 1, 5], [2, 5], [7], [6, 1]]\n",
      "candidates [] current [1, 5] result [[1, 6], [1, 1, 5], [2, 5], [7], [6, 1]]\n",
      "candidates [] current [5] result [[1, 6], [1, 1, 5], [2, 5], [7], [6, 1]]\n"
     ]
    }
   ],
   "source": [
    "def combination(candidates, target, current, result):\n",
    "    s = sum(current) if current else 0\n",
    "    if s > target:\n",
    "        return\n",
    "    elif s == target:\n",
    "        result.append(current)\n",
    "        print(result, 'result')\n",
    "        return j\n",
    "    else:\n",
    "        i = 0\n",
    "        while i >= 0:\n",
    "            print('candidates', candidates[i+1:], 'current', current + [candidates[i]], 'result', result)\n",
    "            combination(candidates[i + 1:], target, current + [candidates[i]], result)\n",
    "            # ignore repeating elements\n",
    "            while i + 1 < len(candidates) and candidates[i] == candidates[i + 1]:\n",
    "                print(candidate[i],'haha')\n",
    "                i += 1\n",
    "            i += 1\n",
    "combination([10, 1, 2, 7, 6, 1, 1, 5], 7, [],[])\n"
   ]
  },
  {
   "cell_type": "code",
   "execution_count": 37,
   "metadata": {
    "collapsed": true
   },
   "outputs": [],
   "source": [
    "\n",
    "def DFS(candidates, target, start, valuelist, result):\n",
    "    candidates = sorted(candidates)\n",
    "    length = len(candidates)\n",
    "    if target == 0 and valuelist not in result: \n",
    "        print(result)\n",
    "        return result.append(valuelist)\n",
    "    for i in range(start, length):\n",
    "        if target < candidates[i]:\n",
    "            return\n",
    "        print(start, i, candidates, target - candidates[i], valuelist + [candidates[i]])\n",
    "        DFS(candidates, target - candidates[i], i + 1, valuelist + [candidates[i]], result)"
   ]
  },
  {
   "cell_type": "code",
   "execution_count": 38,
   "metadata": {
    "collapsed": false
   },
   "outputs": [
    {
     "name": "stdout",
     "output_type": "stream",
     "text": [
      "0 0 [1, 1, 2, 5, 6, 7, 10] 7 [1]\n",
      "1 1 [1, 1, 2, 5, 6, 7, 10] 6 [1, 1]\n",
      "2 2 [1, 1, 2, 5, 6, 7, 10] 4 [1, 1, 2]\n",
      "2 3 [1, 1, 2, 5, 6, 7, 10] 1 [1, 1, 5]\n",
      "2 4 [1, 1, 2, 5, 6, 7, 10] 0 [1, 1, 6]\n",
      "[]\n",
      "1 2 [1, 1, 2, 5, 6, 7, 10] 5 [1, 2]\n",
      "3 3 [1, 1, 2, 5, 6, 7, 10] 0 [1, 2, 5]\n",
      "[[1, 1, 6]]\n",
      "1 3 [1, 1, 2, 5, 6, 7, 10] 2 [1, 5]\n",
      "1 4 [1, 1, 2, 5, 6, 7, 10] 1 [1, 6]\n",
      "1 5 [1, 1, 2, 5, 6, 7, 10] 0 [1, 7]\n",
      "[[1, 1, 6], [1, 2, 5]]\n",
      "0 1 [1, 1, 2, 5, 6, 7, 10] 7 [1]\n",
      "2 2 [1, 1, 2, 5, 6, 7, 10] 5 [1, 2]\n",
      "3 3 [1, 1, 2, 5, 6, 7, 10] 0 [1, 2, 5]\n",
      "2 3 [1, 1, 2, 5, 6, 7, 10] 2 [1, 5]\n",
      "2 4 [1, 1, 2, 5, 6, 7, 10] 1 [1, 6]\n",
      "2 5 [1, 1, 2, 5, 6, 7, 10] 0 [1, 7]\n",
      "0 2 [1, 1, 2, 5, 6, 7, 10] 6 [2]\n",
      "3 3 [1, 1, 2, 5, 6, 7, 10] 1 [2, 5]\n",
      "3 4 [1, 1, 2, 5, 6, 7, 10] 0 [2, 6]\n",
      "[[1, 1, 6], [1, 2, 5], [1, 7]]\n",
      "0 3 [1, 1, 2, 5, 6, 7, 10] 3 [5]\n",
      "0 4 [1, 1, 2, 5, 6, 7, 10] 2 [6]\n",
      "0 5 [1, 1, 2, 5, 6, 7, 10] 1 [7]\n"
     ]
    }
   ],
   "source": [
    "DFS([10,1,2,7,6,1,5], 8, 0, [], [])"
   ]
  },
  {
   "cell_type": "code",
   "execution_count": 26,
   "metadata": {
    "collapsed": true
   },
   "outputs": [],
   "source": [
    "def find_sum_infi_stream(stream, target):\n",
    "    count = 0\n",
    "    candi = []\n",
    "    bl = True\n",
    "    while bl:\n",
    "        ans = set()\n",
    "        try:\n",
    "            candi.append(stream[count])\n",
    "            if count == 0:\n",
    "                if stream[count] == target: return count+1\n",
    "            else:  \n",
    "                combination(0, len(candi[:count]), candi[:count], [], ans, stream[count])\n",
    "                print(ans, candi[:count], stream[count])\n",
    "                if target in ans:\n",
    "                    bl = False\n",
    "            count += 1\n",
    "        except IndexError:\n",
    "            print('Search exhausted, none such combination was found')\n",
    "            break\n",
    "    return count\n",
    "\n",
    "def combination(cur,length,S,res,ans, cur_nb):\n",
    "    S = sorted(S)\n",
    "    ans.add(sum(res)+cur_nb)\n",
    "    i=cur\n",
    "    while i < length:\n",
    "        res.append(S[i])\n",
    "        combination(i+1, length, S, res, ans, cur_nb)\n",
    "        while i+1<length and S[i]==S[i+1]: i+=1\n",
    "        res.pop()\n",
    "        i+=1"
   ]
  },
  {
   "cell_type": "code",
   "execution_count": 36,
   "metadata": {
    "collapsed": false
   },
   "outputs": [
    {
     "name": "stdout",
     "output_type": "stream",
     "text": [
      "{9, 7} [2] 7\n",
      "{10, 3, 12, 5} [2, 7] 3\n",
      "{1, 3, 4, 6, 8, 10, 11, 13} [2, 7, 3] 1\n"
     ]
    },
    {
     "data": {
      "text/plain": [
       "4"
      ]
     },
     "execution_count": 36,
     "metadata": {},
     "output_type": "execute_result"
    }
   ],
   "source": [
    "find_sum_infi_stream([2,7,3,1,10,2], 11)"
   ]
  },
  {
   "cell_type": "code",
   "execution_count": 61,
   "metadata": {
    "collapsed": false
   },
   "outputs": [],
   "source": [
    "\n",
    "def solve(cur,n,S,res,ans):  \n",
    "    print(res)\n",
    "    ans.append(res[:])\n",
    "    i=cur\n",
    "    while i < n:\n",
    "        res.append(S[i])\n",
    "        solve(i+1, len(S), S, res, ans)\n",
    "        while i+1<n and S[i]==S[i+1]: i+=1\n",
    "        res.pop()\n",
    "        i+=1"
   ]
  },
  {
   "cell_type": "code",
   "execution_count": 62,
   "metadata": {
    "collapsed": false
   },
   "outputs": [
    {
     "name": "stdout",
     "output_type": "stream",
     "text": [
      "[]\n",
      "[3]\n",
      "[3, 3]\n",
      "[3, 3, 5]\n",
      "[3, 3, 5, 45]\n",
      "[3, 3, 45]\n",
      "[3, 5]\n",
      "[3, 5, 45]\n",
      "[3, 45]\n",
      "[5]\n",
      "[5, 45]\n",
      "[45]\n"
     ]
    },
    {
     "data": {
      "text/plain": [
       "[[],\n",
       " [3],\n",
       " [3, 3],\n",
       " [3, 3, 5],\n",
       " [3, 3, 5, 45],\n",
       " [3, 3, 45],\n",
       " [3, 5],\n",
       " [3, 5, 45],\n",
       " [3, 45],\n",
       " [5],\n",
       " [5, 45],\n",
       " [45]]"
      ]
     },
     "execution_count": 62,
     "metadata": {},
     "output_type": "execute_result"
    }
   ],
   "source": [
    "ans = []\n",
    "solve(0,4,[3,3,5,45],[],ans)\n",
    "ans"
   ]
  },
  {
   "cell_type": "code",
   "execution_count": 207,
   "metadata": {
    "collapsed": false
   },
   "outputs": [
    {
     "data": {
      "text/plain": [
       "[[1, 1, 5], [1, 6], [2, 5], [7]]"
      ]
     },
     "execution_count": 207,
     "metadata": {},
     "output_type": "execute_result"
    }
   ],
   "source": [
    "class Solution(object):\n",
    "    def combinationSum2(self, candidates, target):\n",
    "        \"\"\"\n",
    "        :type candidates: List[int]\n",
    "        :type target: int\n",
    "        :rtype: List[List[int]]\n",
    "        \"\"\"\n",
    "        if not candidates:\n",
    "            return []\n",
    "        candidates.sort()\n",
    "        result = []\n",
    "        self.combination(candidates, target, [], result)\n",
    "        return result\n",
    "\n",
    "    def combination(self, candidates, target, current, result):\n",
    "        s = sum(current) if current else 0\n",
    "        if s > target:\n",
    "            return\n",
    "        elif s == target:\n",
    "            result.append(current)\n",
    "            return\n",
    "        else:\n",
    "            i = 0\n",
    "            while i < len(candidates):\n",
    "                self.combination(candidates[i + 1:], target, current + [candidates[i]], result)\n",
    "                # ignore repeating elements\n",
    "                while i + 1 < len(candidates) and candidates[i] == candidates[i + 1]:\n",
    "                    i += 1\n",
    "                i += 1\n",
    "Solution().combinationSum2([10, 1, 2, 7, 6, 1, 5], 7)"
   ]
  },
  {
   "cell_type": "code",
   "execution_count": 191,
   "metadata": {
    "collapsed": false
   },
   "outputs": [
    {
     "data": {
      "text/plain": [
       "3"
      ]
     },
     "execution_count": 191,
     "metadata": {},
     "output_type": "execute_result"
    }
   ],
   "source": [
    "def fabi(n):\n",
    "    if n == 0:\n",
    "        return 0\n",
    "    elif n == 1:\n",
    "        return 1\n",
    "    else:\n",
    "        return fabi(n-1) + fabi(n-2)\n",
    "\n",
    "fabi(4)"
   ]
  },
  {
   "cell_type": "code",
   "execution_count": 74,
   "metadata": {
    "collapsed": false
   },
   "outputs": [],
   "source": [
    "import pandas as pd\n",
    "eb1_NSC = pd.read_csv('/Users/djl358/Documents/new_search/EB1_NSC.csv')"
   ]
  },
  {
   "cell_type": "code",
   "execution_count": 81,
   "metadata": {
    "collapsed": false
   },
   "outputs": [
    {
     "data": {
      "text/plain": [
       "array(['140_PP 140_485 CC', 'Center', 'Type', 'Revice Date(RD)',\n",
       "       'FP Notice Date', 'Days from RD to FP Notice Date', 'Unnamed: 6',\n",
       "       'FP Date', 'Walk in?', 'Location', 'AP_EAD AD',\n",
       "       'Days from RD to AP_EAD AD', '485 AD', 'Days from RD',\n",
       "       'Days from FP Date to 485 AD', 'Days from RD to 485 AD',\n",
       "       'Unnamed: 16', 'Unnamed: 17', 'Unnamed: 18'], dtype=object)"
      ]
     },
     "execution_count": 81,
     "metadata": {},
     "output_type": "execute_result"
    }
   ],
   "source": [
    "eb1_NSC.columns.values"
   ]
  },
  {
   "cell_type": "code",
   "execution_count": 8,
   "metadata": {
    "collapsed": false
   },
   "outputs": [],
   "source": [
    "class Solution(object):\n",
    "    def isValid(self, s):\n",
    "        \"\"\"\n",
    "        :type s: str\n",
    "        :rtype: bool\n",
    "        \"\"\"\n",
    "        stack = []\n",
    "        if len(s)%2 != 0:\n",
    "            return False\n",
    "        else:\n",
    "            for i in range(len(s)):\n",
    "                if s[i] in ('[', '{', '('):\n",
    "                    stack.append(s[i])\n",
    "                else:\n",
    "                    if stack == []:\n",
    "                        return False\n",
    "                    else:\n",
    "                        if (s[i] == ']' and stack[-1] == '[') or (s[i] == '}' and stack[-1] == '{') or (s[i] == ')' and stack[-1] == '('):\n",
    "                            stack.pop()\n",
    "                        else:\n",
    "                            stack.append(s[i])\n",
    "            if stack == []:\n",
    "                return True\n",
    "            else:\n",
    "                return False"
   ]
  },
  {
   "cell_type": "code",
   "execution_count": 9,
   "metadata": {
    "collapsed": false
   },
   "outputs": [
    {
     "data": {
      "text/plain": [
       "False"
      ]
     },
     "execution_count": 9,
     "metadata": {},
     "output_type": "execute_result"
    }
   ],
   "source": [
    "c= Solution()\n",
    "c.isValid(')(')"
   ]
  },
  {
   "cell_type": "code",
   "execution_count": 25,
   "metadata": {
    "collapsed": false
   },
   "outputs": [
    {
     "data": {
      "text/plain": [
       "array([3, 5])"
      ]
     },
     "execution_count": 25,
     "metadata": {},
     "output_type": "execute_result"
    }
   ],
   "source": [
    "import numpy as np\n",
    "a = np.array([1,2])\n",
    "b = np.array([2,3])\n"
   ]
  },
  {
   "cell_type": "code",
   "execution_count": 32,
   "metadata": {
    "collapsed": true
   },
   "outputs": [],
   "source": [
    "# print the mode of the array\n",
    "# mode is the element which has the highest frequency\n",
    "def print_mode(input_ls):\n",
    "    dict_rslt = {}\n",
    "    for item in input_ls:\n",
    "        if item in dict_rslt:\n",
    "            dict_rslt[item] += 1\n",
    "        else:\n",
    "            dict_rslt[item] = 1\n",
    "    maxitem = 0\n",
    "    rslt = []\n",
    "    for key in dict_rslt:\n",
    "        if dict_rslt[key] > maxitem:\n",
    "            rslt = []\n",
    "            rslt.append(key)\n",
    "            maxitem = dict_rslt[key]\n",
    "        elif dict_rslt[key] == maxitem:\n",
    "            rslt.append(key)\n",
    "    print(rslt)"
   ]
  },
  {
   "cell_type": "code",
   "execution_count": 33,
   "metadata": {
    "collapsed": false
   },
   "outputs": [
    {
     "name": "stdout",
     "output_type": "stream",
     "text": [
      "[2, 3]\n",
      "[3, 6]\n"
     ]
    }
   ],
   "source": [
    "input_ls = [1, 2, 2, 3, 3, 4, 5, 6]\n",
    "print_mode(input_ls)\n",
    "input_ls = [1, 2, 3, 3, 4, 5, 6, 6]\n",
    "print_mode(input_ls)\n"
   ]
  },
  {
   "cell_type": "code",
   "execution_count": 42,
   "metadata": {
    "collapsed": false
   },
   "outputs": [
    {
     "name": "stdout",
     "output_type": "stream",
     "text": [
      "0 3\n"
     ]
    }
   ],
   "source": [
    "input_ls = [-11, -5, 2, -9, 3, 8, 5, 6]\n",
    "def product(input_ls):\n",
    "    sorted_input = sorted(input_ls)\n",
    "    tmp1 = sorted_input[-1]*sorted_input[-2]\n",
    "    tmp2 = sorted_input[0]*sorted_input[1]\n",
    "    if tmp1 > tmp2:\n",
    "        print(input_ls.index(sorted_input[-1]), input_ls.index(sorted_input[-2]))\n",
    "    else:\n",
    "        print(input_ls.index(sorted_input[0]), input_ls.index(sorted_input[1]))\n",
    "product(input_ls)"
   ]
  },
  {
   "cell_type": "code",
   "execution_count": 55,
   "metadata": {
    "collapsed": true
   },
   "outputs": [],
   "source": [
    "def AminusB(A, B):\n",
    "    for item in B:\n",
    "        if item in A:\n",
    "            A.remove(item)\n",
    "    print(A)"
   ]
  },
  {
   "cell_type": "code",
   "execution_count": 61,
   "metadata": {
    "collapsed": false
   },
   "outputs": [
    {
     "name": "stdout",
     "output_type": "stream",
     "text": [
      "[1, 2, 1, 3]\n",
      "[2, 1, 3, 3]\n",
      "[1, 2, 1, 3]\n"
     ]
    }
   ],
   "source": [
    "AminusB([1,2,1,3,3, 3], [3,3])\n",
    "AminusB([1,2,1,3,3, 3], [3,1])\n",
    "AminusB([1,2,1,3,3, 3], [3,3,0])"
   ]
  },
  {
   "cell_type": "code",
   "execution_count": 68,
   "metadata": {
    "collapsed": false
   },
   "outputs": [
    {
     "name": "stdout",
     "output_type": "stream",
     "text": [
      "['this']\n",
      "['is', 'a', 'test']\n",
      "['game']\n"
     ]
    }
   ],
   "source": [
    "input_str = 'this is a test game'\n",
    "def print_str(input_str):\n",
    "    ls = input_str.split(' ')\n",
    "    length = 0\n",
    "    i = 0\n",
    "    while i < len(ls):\n",
    "        j = i\n",
    "        cumsum = 0\n",
    "        new_ls = []\n",
    "        while j < len(ls):\n",
    "            cumsum += len(ls[j])\n",
    "            new_ls.append(ls[j])\n",
    "            if cumsum > length:\n",
    "                break\n",
    "            j += 1\n",
    "        print(new_ls)\n",
    "        length = cumsum\n",
    "        i = j\n",
    "        i += 1\n",
    "print_str(input_str)       "
   ]
  },
  {
   "cell_type": "code",
   "execution_count": 37,
   "metadata": {
    "collapsed": false
   },
   "outputs": [
    {
     "data": {
      "text/plain": [
       "2.4289915602982237"
      ]
     },
     "execution_count": 37,
     "metadata": {},
     "output_type": "execute_result"
    }
   ],
   "source": [
    "x = [1, 3,4,5,6,8]\n",
    "[i for i in x[::2] if i%2==0]\n",
    "\n",
    "def stdev(x):\n",
    "    mean=sum(x)/len(x)\n",
    "    cumsum = 0\n",
    "    for item in x:\n",
    "        cumsum += (item-mean)**2\n",
    "    return (cumsum/(len(x)-1))**0.5\n",
    "\n",
    "stdev(x)"
   ]
  },
  {
   "cell_type": "code",
   "execution_count": 59,
   "metadata": {
    "collapsed": false
   },
   "outputs": [
    {
     "data": {
      "text/plain": [
       "[1, 2, 3, 4, 5, 6, 7, 8, 9]"
      ]
     },
     "execution_count": 59,
     "metadata": {},
     "output_type": "execute_result"
    }
   ],
   "source": [
    "def flat(inp, rslt=[]):\n",
    "    if inp==[]:\n",
    "        return []\n",
    "    for item in inp:\n",
    "        if isinstance(item, list):\n",
    "            flat(item, rslt)\n",
    "        else:\n",
    "            rslt.append(item)\n",
    "    return rslt\n",
    "\n",
    "flat([1,2,[3,4,[5,6]], 7, 8, 9])"
   ]
  },
  {
   "cell_type": "code",
   "execution_count": 69,
   "metadata": {
    "collapsed": false
   },
   "outputs": [
    {
     "data": {
      "text/plain": [
       "[1, 2, 0, 0]"
      ]
     },
     "execution_count": 69,
     "metadata": {},
     "output_type": "execute_result"
    }
   ],
   "source": [
    "def move_zeros(inp):\n",
    "    length = 0\n",
    "    rslt1 = []\n",
    "    for i in range(len(inp)):\n",
    "        if inp[i] == 0:\n",
    "            length += 1\n",
    "        else:\n",
    "            rslt1.append(inp[i])\n",
    "    inp = rslt1+length*[0]\n",
    "    return inp\n",
    "a = [0,1,2,0]\n",
    "a = move_zeros(a)\n",
    "a"
   ]
  },
  {
   "cell_type": "code",
   "execution_count": 73,
   "metadata": {
    "collapsed": false
   },
   "outputs": [
    {
     "data": {
      "text/plain": [
       "[2, 1, 2, 0, 0, 0, 0]"
      ]
     },
     "execution_count": 73,
     "metadata": {},
     "output_type": "execute_result"
    }
   ],
   "source": [
    "def move_zeros(inp):\n",
    "    zlen = 0\n",
    "    for i in range(len(inp)):\n",
    "        if inp[i] == 0:\n",
    "            zlen += 1\n",
    "        else:\n",
    "            inp[i], inp[i-zlen] = 0, inp[i]\n",
    "a = [0,0, 2, 0, 1,2,0]\n",
    "move_zeros(a)\n",
    "a"
   ]
  },
  {
   "cell_type": "code",
   "execution_count": 29,
   "metadata": {
    "collapsed": false
   },
   "outputs": [
    {
     "name": "stdout",
     "output_type": "stream",
     "text": [
      "[6, 6, 6, 6]\n",
      "[<function multipliers.<locals>.<listcomp>.<lambda> at 0x106c82620>, <function multipliers.<locals>.<listcomp>.<lambda> at 0x106c82730>, <function multipliers.<locals>.<listcomp>.<lambda> at 0x106c82ae8>, <function multipliers.<locals>.<listcomp>.<lambda> at 0x106c822f0>]\n"
     ]
    }
   ],
   "source": [
    "def multipliers():\n",
    "    return [lambda x: i * x for i in range (4)]\n",
    "\n",
    "print([m(2) for m in multipliers()])\n",
    "\n",
    "print(multipliers())"
   ]
  },
  {
   "cell_type": "code",
   "execution_count": 89,
   "metadata": {
    "collapsed": true
   },
   "outputs": [],
   "source": [
    "class Solution:\n",
    "    # @param {string} s a string which consists of lowercase or uppercase letters\n",
    "    # @return {int} the length of the longest palindromes that can be built\n",
    "    def longestPalindrome(self, s):\n",
    "        # Write your code here\n",
    "        rslt_dict = {}\n",
    "        rslt_len = 0\n",
    "        for item in s:\n",
    "            if item in rslt_dict:\n",
    "                rslt_dict[item] += 1\n",
    "            else:\n",
    "                rslt_dict[item] = 1\n",
    "        for key in rslt_dict:\n",
    "            if rslt_dict[key]%2 == 0:\n",
    "                rslt_len += rslt_dict[key]\n",
    "        return rslt_len+1"
   ]
  },
  {
   "cell_type": "code",
   "execution_count": 90,
   "metadata": {
    "collapsed": false
   },
   "outputs": [
    {
     "data": {
      "text/plain": [
       "9"
      ]
     },
     "execution_count": 90,
     "metadata": {},
     "output_type": "execute_result"
    }
   ],
   "source": [
    "a = Solution()\n",
    "a.longestPalindrome('abbccccdd')"
   ]
  },
  {
   "cell_type": "code",
   "execution_count": 99,
   "metadata": {
    "collapsed": false
   },
   "outputs": [],
   "source": [
    "class node:\n",
    "    def __init__(self, key):\n",
    "        self.left = None\n",
    "        self.right = None\n",
    "        self.val = key\n",
    "root = node(5)\n",
    "root.left = node(4)\n",
    "root.right = node(7)\n",
    "root.right.left = node(6)\n",
    "root.right.right = node(10)\n",
    "root.right.right.left = node(9)\n",
    "root.right.right.right = node(11)\n"
   ]
  },
  {
   "cell_type": "code",
   "execution_count": 107,
   "metadata": {
    "collapsed": true
   },
   "outputs": [],
   "source": [
    "def printInorder(root):\n",
    "    if root:\n",
    "        # First recur on left child\n",
    "        printInorder(root.left)\n",
    "        # then print the data of node\n",
    "        print(root.val)\n",
    "        # now recur on right child\n",
    "        printInorder(root.right)\n"
   ]
  },
  {
   "cell_type": "code",
   "execution_count": 128,
   "metadata": {
    "collapsed": false
   },
   "outputs": [
    {
     "name": "stdout",
     "output_type": "stream",
     "text": [
      "4\n",
      "5\n",
      "6\n",
      "7\n",
      "9\n",
      "10\n"
     ]
    }
   ],
   "source": [
    "printInorder(root)"
   ]
  },
  {
   "cell_type": "code",
   "execution_count": 148,
   "metadata": {
    "collapsed": false
   },
   "outputs": [],
   "source": [
    "def get_next_lgst(root, tgt):\n",
    "    if root:\n",
    "        # First recur on left child\n",
    "        get_next_lgst(root.left, tgt)\n",
    "        return(root.val) \n",
    "        # now recur on right child\n",
    "        get_next_lgst(root.right, tgt)\n",
    "        # then return next largetst value\n"
   ]
  },
  {
   "cell_type": "code",
   "execution_count": 151,
   "metadata": {
    "collapsed": false
   },
   "outputs": [
    {
     "name": "stdout",
     "output_type": "stream",
     "text": [
      "5\n"
     ]
    }
   ],
   "source": [
    "a = get_next_lgst(root, 7)\n",
    "print(a)"
   ]
  },
  {
   "cell_type": "code",
   "execution_count": 17,
   "metadata": {
    "collapsed": false
   },
   "outputs": [],
   "source": [
    "class Solution(object):\n",
    "    def twoSum(self, numbers, target):\n",
    "        \"\"\"\n",
    "        :type numbers: List[int]\n",
    "        :type target: int\n",
    "        :rtype: List[int]\n",
    "        \"\"\"\n",
    "        dict1 = {}\n",
    "        for i in range(len(numbers)):\n",
    "            chk = target - numbers[i]\n",
    "           # print(dict1, chk)\n",
    "            if numbers[i] in dict1:\n",
    "                return [dict1[numbers[i]], i+1]\n",
    "            else:\n",
    "                dict1[chk] = i+1"
   ]
  },
  {
   "cell_type": "code",
   "execution_count": 18,
   "metadata": {
    "collapsed": false
   },
   "outputs": [
    {
     "data": {
      "text/plain": [
       "[1, 3]"
      ]
     },
     "execution_count": 18,
     "metadata": {},
     "output_type": "execute_result"
    }
   ],
   "source": [
    "a = Solution()\n",
    "a.twoSum([2,3,4], 6)"
   ]
  }
 ],
 "metadata": {
  "anaconda-cloud": {},
  "kernelspec": {
   "display_name": "Python [default]",
   "language": "python",
   "name": "python3"
  },
  "language_info": {
   "codemirror_mode": {
    "name": "ipython",
    "version": 3
   },
   "file_extension": ".py",
   "mimetype": "text/x-python",
   "name": "python",
   "nbconvert_exporter": "python",
   "pygments_lexer": "ipython3",
   "version": "3.5.2"
  }
 },
 "nbformat": 4,
 "nbformat_minor": 2
}
